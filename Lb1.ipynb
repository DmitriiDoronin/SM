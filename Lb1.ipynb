{
 "cells": [
  {
   "cell_type": "code",
   "execution_count": 30,
   "id": "205ec520-bb50-49fd-8e59-34a7acabf068",
   "metadata": {},
   "outputs": [
    {
     "name": "stdout",
     "output_type": "stream",
     "text": [
      "3.141592653589782\n",
      "1.1102230246251565e-14\n"
     ]
    }
   ],
   "source": [
    "import numpy as np\n",
    "sum_pi = 3\n",
    "k = [2,3,4,5,6,7]\n",
    "for i in range(20000):\n",
    "    sum_pi  = sum_pi + 4/((k[0]+4*i)*(k[1]+4*i)*(k[2]+4*i))-4/((k[2]+4*i)*(k[3]+4*i)*(k[4]+4*i)) \n",
    "print(sum_pi)\n",
    "print(np.abs(sum_pi - np.pi))"
   ]
  },
  {
   "cell_type": "code",
   "execution_count": 51,
   "id": "dcc279b6-6fc4-4988-83c1-aceb542e55c6",
   "metadata": {},
   "outputs": [
    {
     "name": "stdout",
     "output_type": "stream",
     "text": [
      "yes\n"
     ]
    }
   ],
   "source": [
    "s1 = 'KUULILENNUTEETUNNELILUUK'\n",
    "len(s1)\n",
    "marker = 0\n",
    "for i in range(len(s1)-1):\n",
    "    if s1[i] != s1[len(s1)-i-1]:\n",
    "        print('not')\n",
    "        marker = 1\n",
    "if marker != 1 :\n",
    "    print('yes')"
   ]
  },
  {
   "cell_type": "code",
   "execution_count": null,
   "id": "99317d3e-68af-49b5-86ad-57b741fc154a",
   "metadata": {},
   "outputs": [],
   "source": []
  }
 ],
 "metadata": {
  "kernelspec": {
   "display_name": "Python 3 (ipykernel)",
   "language": "python",
   "name": "python3"
  },
  "language_info": {
   "codemirror_mode": {
    "name": "ipython",
    "version": 3
   },
   "file_extension": ".py",
   "mimetype": "text/x-python",
   "name": "python",
   "nbconvert_exporter": "python",
   "pygments_lexer": "ipython3",
   "version": "3.9.13"
  }
 },
 "nbformat": 4,
 "nbformat_minor": 5
}
